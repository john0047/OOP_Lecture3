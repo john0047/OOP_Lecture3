{
  "nbformat": 4,
  "nbformat_minor": 0,
  "metadata": {
    "colab": {
      "provenance": [],
      "authorship_tag": "ABX9TyPqHLHSeLm6WOV61Y/WUXOm",
      "include_colab_link": true
    },
    "kernelspec": {
      "name": "python3",
      "display_name": "Python 3"
    },
    "language_info": {
      "name": "python"
    }
  },
  "cells": [
    {
      "cell_type": "markdown",
      "metadata": {
        "id": "view-in-github",
        "colab_type": "text"
      },
      "source": [
        "<a href=\"https://colab.research.google.com/github/john0047/OOP_Lecture3/blob/main/OOP_Lecture3_inClass.ipynb\" target=\"_parent\"><img src=\"https://colab.research.google.com/assets/colab-badge.svg\" alt=\"Open In Colab\"/></a>"
      ]
    },
    {
      "cell_type": "code",
      "execution_count": 18,
      "metadata": {
        "colab": {
          "base_uri": "https://localhost:8080/"
        },
        "id": "1MsaMUHkxwfU",
        "outputId": "8edd0c20-cd50-4c25-b095-4cd76964dc66"
      },
      "outputs": [
        {
          "output_type": "stream",
          "name": "stdout",
          "text": [
            "Cube\n",
            "Volume: 8\n",
            "Surface area: 24\n",
            "---\n",
            "Sphere\n",
            "Volume: 113.09733552923254\n",
            "Surface area: 113.09733552923255\n",
            "---\n",
            "Cylinder\n",
            "Volume: 62.83185307179586\n",
            "Surface area: 87.96459430051421\n",
            "---\n"
          ]
        }
      ],
      "source": [
        "from abc import ABC, abstractmethod\n",
        "import math\n",
        "\n",
        "# TODO: Write code for Shape3D with concrete and abstract methods.\n",
        "class Shape3D(ABC):\n",
        "    # TODO: Write code for volume method.\n",
        "    @abstractmethod\n",
        "    def volume(self):\n",
        "      pass\n",
        "\n",
        "    # TODO: Write code for surface_area method.\n",
        "    @abstractmethod\n",
        "    def surface_area(self):\n",
        "      pass\n",
        "    # TODO: Write code for describe method. You can simply print out the instance's class name and its parameter(s).\n",
        "    def describe(self):\n",
        "      print(self.__class__.__name__)\n",
        "      #print(*self.__dict__.items())\n",
        "\n",
        "# TODO: Write code for subclass Cube.\n",
        "class Cube(Shape3D):\n",
        "    # TODO: Complete the initializer method.\n",
        "    def __init__(self, side):\n",
        "      self.side = side\n",
        "\n",
        "    # TODO: Write code for volume method.\n",
        "    def volume(self):\n",
        "      return self.side ** 3\n",
        "\n",
        "    # TODO: Write code for surface_area method.\n",
        "    def surface_area(self):\n",
        "      return 6 * self.side * self.side\n",
        "\n",
        "# TODO: Implement subclass Sphere\n",
        "class Sphere(Shape3D):\n",
        "    # TODO: Complete the initializer method.\n",
        "    def __init__(self, radius):\n",
        "      self.radius = radius\n",
        "\n",
        "    # TODO: Write code for volume method.\n",
        "    def volume(self):\n",
        "      return math.pi * (4 / 3) * self.radius ** 3\n",
        "\n",
        "    # TODO: Write code for surface_area method.\n",
        "    def surface_area(self):\n",
        "      return math.pi * 4 * self.radius * self.radius\n",
        "\n",
        "# TODO: Implement subclass Cylinder\n",
        "class Cylinder(Shape3D):\n",
        "    # TODO: Complete the initializer method.\n",
        "    def __init__(self, radius, height):\n",
        "      self.radius = radius\n",
        "      self.height = height\n",
        "\n",
        "    # TODO: Write code for volume method.\n",
        "    def volume(self):\n",
        "      return math.pi * self.height * self.radius ** 2\n",
        "\n",
        "    # TODO: Write code for surface_area method.\n",
        "    def surface_area(self):\n",
        "      return (math.pi * self.radius ** 2 * 2) + (2 * math.pi * self.radius * self.height)\n",
        "\n",
        "# TODO: Instantiate three different objects.\n",
        "shapes = [Cube(2), Sphere(3), Cylinder(2, 5)]\n",
        "\n",
        "for s in shapes:\n",
        "    s.describe()\n",
        "    print(\"Volume:\", s.volume())\n",
        "    print(\"Surface area:\", s.surface_area())\n",
        "    print(\"---\")"
      ]
    },
    {
      "cell_type": "code",
      "source": [
        "class A:\n",
        "  def hello(self):\n",
        "    print(\"Hello from A\")\n",
        "class B(A):\n",
        "  def hello(self):\n",
        "    print(\"Hello from B\")\n",
        "    super().hello()\n",
        "class C(A):\n",
        "  def hello(self):\n",
        "    print(\"Hello from C\")\n",
        "    super().hello()\n",
        "class D(B, C):\n",
        "  def hello(self):\n",
        "    print(\"Hello from D\")\n",
        "    super().hello()\n",
        "\n",
        "class E(C):\n",
        "  pass\n",
        "\n",
        "class F(B, E):\n",
        "  pass\n",
        "\n",
        "print(F.__mro__)\n",
        "# The sequence is [F, B, E, A, C, object].\n",
        "\n",
        "try:\n",
        "  class G(E, F):\n",
        "    pass\n",
        "except TypeError:\n",
        "  print('MRO conflict error occured')"
      ],
      "metadata": {
        "colab": {
          "base_uri": "https://localhost:8080/"
        },
        "id": "dMOhX4Op04r2",
        "outputId": "ecf4b151-9daf-4d0b-c33b-a7e503babe38"
      },
      "execution_count": 19,
      "outputs": [
        {
          "output_type": "stream",
          "name": "stdout",
          "text": [
            "(<class '__main__.F'>, <class '__main__.B'>, <class '__main__.E'>, <class '__main__.C'>, <class '__main__.A'>, <class 'object'>)\n",
            "MRO conflict error occured\n"
          ]
        }
      ]
    }
  ]
}